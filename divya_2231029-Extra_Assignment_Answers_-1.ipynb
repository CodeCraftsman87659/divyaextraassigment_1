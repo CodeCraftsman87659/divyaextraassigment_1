{
 "cells": [
  {
   "cell_type": "code",
   "execution_count": 1,
   "id": "41e3ba6b-b845-47d6-af55-8c9b525d8c34",
   "metadata": {},
   "outputs": [
    {
     "name": "stdin",
     "output_type": "stream",
     "text": [
      "Enter your statement : HOPE AI\n"
     ]
    },
    {
     "name": "stdout",
     "output_type": "stream",
     "text": [
      "Yayy!! It's Matched HOPE AI\n"
     ]
    }
   ],
   "source": [
    "s1=input(\"Enter your statement :\")\n",
    "if \"HOPE AI\"==s1:\n",
    "    print(\"Yayy!! It's Matched\",s1)"
   ]
  },
  {
   "cell_type": "code",
   "execution_count": 2,
   "id": "0093c002-b083-4a21-9202-deac2819cca4",
   "metadata": {},
   "outputs": [
    {
     "name": "stdin",
     "output_type": "stream",
     "text": [
      "Enter your institute name? : HOPE AI\n"
     ]
    },
    {
     "name": "stdout",
     "output_type": "stream",
     "text": [
      "Your institute name is  HOPE AI\n"
     ]
    }
   ],
   "source": [
    "ins=input(\"Enter your institute name? :\")\n",
    "if \"HOPE AI\"==ins:\n",
    "    print(\"Your institute name is \",ins)\n",
    "else:\n",
    "    print(\"Oops!! Missed up\")"
   ]
  },
  {
   "cell_type": "code",
   "execution_count": 2,
   "id": "4c837c0e-9e6b-4562-b804-5da56745845f",
   "metadata": {},
   "outputs": [
    {
     "name": "stdin",
     "output_type": "stream",
     "text": [
      "Enter your name : Raj\n"
     ]
    },
    {
     "name": "stdout",
     "output_type": "stream",
     "text": [
      "Your name is : Raj\n"
     ]
    },
    {
     "name": "stdin",
     "output_type": "stream",
     "text": [
      "Enter your age : 15\n"
     ]
    },
    {
     "name": "stdout",
     "output_type": "stream",
     "text": [
      "Your age is : 15\n"
     ]
    },
    {
     "name": "stdin",
     "output_type": "stream",
     "text": [
      "Enter your school name : Guru school\n"
     ]
    },
    {
     "name": "stdout",
     "output_type": "stream",
     "text": [
      "your school name is : Guru school\n"
     ]
    },
    {
     "name": "stdin",
     "output_type": "stream",
     "text": [
      "Enter your degree : B.E CSE\n"
     ]
    },
    {
     "name": "stdout",
     "output_type": "stream",
     "text": [
      "Your college name is : B.E CSE\n",
      "Your details is : \n",
      " Raj \n",
      " 15 \n",
      " Guru school \n",
      " B.E CSE\n"
     ]
    }
   ],
   "source": [
    "d1=input(\"Enter your name :\")\n",
    "if d1==\"Raj\":\n",
    "    print(\"Your name is :\",d1)\n",
    "d2=int(input(\"Enter your age :\"))\n",
    "if d2==15:\n",
    "    print(\"Your age is :\",d2)\n",
    "d3=input(\"Enter your school name :\")\n",
    "if d3==\"Guru school\":\n",
    "    print(\"your school name is :\",d3)\n",
    "d4=input(\"Enter your degree :\")\n",
    "if d4==\"B.E CSE\":\n",
    "    print(\"Your college name is :\",d4)\n",
    "    print(\"Your details is :\",\"\\n\", d1,\"\\n\",d2,\"\\n\",d3,\"\\n\",d4)"
   ]
  },
  {
   "cell_type": "code",
   "execution_count": 4,
   "id": "57b41c18-395d-4752-adf6-38e491a8f434",
   "metadata": {},
   "outputs": [
    {
     "name": "stdin",
     "output_type": "stream",
     "text": [
      "Enter 1st number : 43\n",
      "Enter 2nd number : 34\n"
     ]
    },
    {
     "name": "stdout",
     "output_type": "stream",
     "text": [
      "Addition : 77\n",
      "Subtraction : 9\n",
      "Multiplication : 1462\n",
      "Division : 1.2647058823529411\n",
      "Floor Division : 1\n",
      "Modulos : 9\n",
      "Power : 34508611856016952192871159710674768120457665758914571449\n"
     ]
    }
   ],
   "source": [
    "sum1=input(\"Enter 1st number :\")\n",
    "sum2=input(\"Enter 2nd number :\")\n",
    "add=int(sum1) + int(sum2)\n",
    "sub=int(sum1) - int(sum2)\n",
    "mul=int(sum1) * int(sum2)\n",
    "div=float(sum1) / float(sum2)\n",
    "fd=int(sum1) // int(sum2)\n",
    "mod=int(sum1) % int(sum2)\n",
    "powe=int(sum1) ** int(sum2)\n",
    "print(\"Addition :\",add)\n",
    "print(\"Subtraction :\",sub)\n",
    "print(\"Multiplication :\",mul)\n",
    "print(\"Division :\",div)\n",
    "print(\"Floor Division :\",fd)\n",
    "print(\"Modulos :\",mod)\n",
    "print(\"Power :\",powe)"
   ]
  },
  {
   "cell_type": "code",
   "execution_count": null,
   "id": "c6a2ea39-3c7a-41ed-930d-7237eddfdf8b",
   "metadata": {},
   "outputs": [],
   "source": []
  }
 ],
 "metadata": {
  "kernelspec": {
   "display_name": "Python [conda env:base] *",
   "language": "python",
   "name": "conda-base-py"
  },
  "language_info": {
   "codemirror_mode": {
    "name": "ipython",
    "version": 3
   },
   "file_extension": ".py",
   "mimetype": "text/x-python",
   "name": "python",
   "nbconvert_exporter": "python",
   "pygments_lexer": "ipython3",
   "version": "3.13.5"
  }
 },
 "nbformat": 4,
 "nbformat_minor": 5
}
